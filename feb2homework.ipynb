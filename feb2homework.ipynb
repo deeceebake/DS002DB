{
 "cells": [
  {
   "cell_type": "code",
   "execution_count": 2,
   "metadata": {},
   "outputs": [],
   "source": [
    "from collections import Counter, OrderedDict\n",
    "import seaborn as sns\n",
    "from matplotlib import pyplot as plt"
   ]
  },
  {
   "cell_type": "code",
   "execution_count": 3,
   "metadata": {},
   "outputs": [],
   "source": [
    "plt.rcParams.update({'font.size': 8})\n",
    "\n",
    "plt.rcParams['figure.dpi'] = (144)"
   ]
  },
  {
   "cell_type": "code",
   "execution_count": 4,
   "metadata": {},
   "outputs": [],
   "source": [
    "noirdata = [['2/1/2022 22:16:08', 'Dirty blonde', 'Like', '26', '2766'],\n",
    " ['2/1/2022 22:18:05', 'Brown', 'Love', '50', '14'],\n",
    " ['2/2/2022 0:39:29', 'Black', 'Like', '18', '1012'],\n",
    " ['2/2/2022 8:53:33', 'Black', 'Love', '75', '8346'],\n",
    " ['2/2/2022 9:57:23', 'Brown', 'Like', '45', '2601'],\n",
    " ['2/2/2022 10:02:53', 'black', 'Like', '45', '2634'],\n",
    " ['2/2/2022 10:19:44', 'dark brown', 'Like', '14', '5965'],\n",
    " ['2/2/2022 10:25:07', 'Brown', 'Love', '19', '776'],\n",
    " ['2/2/2022 10:26:05', 'Brown', 'Like', '75', '2660'],\n",
    " ['2/2/2022 10:51:12', 'blonde', 'Love', '60', '373'],\n",
    " ['2/2/2022 10:59:27', 'Brown', 'Like', '33', '2124'],\n",
    " ['2/2/2022 11:00:35', 'Black ', 'Like', '61', '25'],\n",
    " ['2/2/2022 11:03:29', 'Brown', 'Love', '59', '35'],\n",
    " ['2/2/2022 11:03:36', 'brown', 'Love', '62', '45'],\n",
    " ['2/2/2022 11:03:59',\n",
    "  'Blond and brown (in different areas)',\n",
    "  'Like',\n",
    "  '46',\n",
    "  '2664'],\n",
    " ['2/2/2022 11:04:04', 'Brown', 'Love', '32', '1003'],\n",
    " ['2/2/2022 11:04:11', 'black and blue', 'Like', '59', '374'],\n",
    " ['2/2/2022 11:05:19', 'black', 'Like', '43', '1412'],\n",
    " ['2/2/2022 11:17:10', 'red', 'Like', '6', '6056']]"
   ]
  },
  {
   "cell_type": "code",
   "execution_count": 5,
   "metadata": {},
   "outputs": [
    {
     "data": {
      "text/plain": [
       "Counter({'Dirty blonde': 1,\n",
       "         'Brown': 7,\n",
       "         'Black': 2,\n",
       "         'black': 2,\n",
       "         'dark brown': 1,\n",
       "         'blonde': 1,\n",
       "         'Black ': 1,\n",
       "         'brown': 1,\n",
       "         'Blond and brown (in different areas)': 1,\n",
       "         'black and blue': 1,\n",
       "         'red': 1})"
      ]
     },
     "execution_count": 5,
     "metadata": {},
     "output_type": "execute_result"
    }
   ],
   "source": [
    "allcolors = [row[1] for row in noirdata]\n",
    "\n",
    "haircolor = Counter(allcolors)\n",
    "haircolor\n",
    "\n",
    "# there are 11 different hair colors if we include duplicates due to capitalization"
   ]
  },
  {
   "cell_type": "code",
   "execution_count": 6,
   "metadata": {},
   "outputs": [
    {
     "data": {
      "text/plain": [
       "(['Like',\n",
       "  'Love',\n",
       "  'Like',\n",
       "  'Love',\n",
       "  'Like',\n",
       "  'Like',\n",
       "  'Like',\n",
       "  'Love',\n",
       "  'Like',\n",
       "  'Love',\n",
       "  'Like',\n",
       "  'Like',\n",
       "  'Love',\n",
       "  'Love',\n",
       "  'Like',\n",
       "  'Love',\n",
       "  'Like',\n",
       "  'Like',\n",
       "  'Like'],\n",
       " Counter({'Like': 12, 'Love': 7}),\n",
       " [('Like', 12), ('Love', 7)])"
      ]
     },
     "execution_count": 6,
     "metadata": {},
     "output_type": "execute_result"
    }
   ],
   "source": [
    "# list of all feelings about chocolate\n",
    "allfeelings = [row[2] for row in noirdata]\n",
    "\n",
    "chocolate = Counter(allfeelings)\n",
    "\n",
    "chocList = sorted(chocolate.items(), key=lambda x: x[1], reverse=True)\n",
    "\n",
    "allfeelings, chocolate, chocList\n",
    "\n",
    "# median and most freq response are \"like\""
   ]
  },
  {
   "cell_type": "code",
   "execution_count": 9,
   "metadata": {},
   "outputs": [
    {
     "name": "stdout",
     "output_type": "stream",
     "text": [
      "allfeelings contains ['Like', 'Love', 'Like', 'Love', 'Like', 'Like', 'Like', 'Love', 'Like', 'Love', 'Like', 'Like', 'Love', 'Love', 'Like', 'Love', 'Like', 'Like', 'Like']\n",
      "The scores are given like this {'Hate': -2, 'Tolerate': -1, 'Neutral': 0, 'Like': 1, 'Love': 2}\n",
      "The feelScores list contains [1, 2, 1, 2, 1, 1, 1, 2, 1, 2, 1, 1, 2, 2, 1, 2, 1, 1, 1]\n",
      "The most frequent vote was 1\n",
      "The mean score was 1.368421052631579\n",
      "\n",
      "The median score was 1\n",
      "The 50th percentile of data (median_grouped) is 1.2916666666666665\n"
     ]
    }
   ],
   "source": [
    "from statistics import mean, mode, median, median_grouped\n",
    "\n",
    "scores = {\n",
    "    'Hate'     :-2,\n",
    "    'Tolerate' :-1,\n",
    "    'Neutral'  :0,\n",
    "    'Like'     :1,\n",
    "    'Love'     :2,\n",
    "}\n",
    "\n",
    "print(f\"allfeelings contains {allfeelings}\")\n",
    "print(f\"The scores are given like this {scores}\")\n",
    "\n",
    "feelScores = []\n",
    "for f in allfeelings:\n",
    "    myscore = scores[f]\n",
    "    feelScores.append(myscore)\n",
    "\n",
    "print(f\"The feelScores list contains {feelScores}\")\n",
    "\n",
    "mean(feelScores), mode(feelScores), median(feelScores)\n",
    "\n",
    "print(f\"The most frequent vote was {mode(feelScores)}\")\n",
    "print(f\"The mean score was {mean(feelScores)}\")\n",
    "print()\n",
    "print(f\"The median score was {median(feelScores)}\")\n",
    "print(f\"The 50th percentile of data (median_grouped) is {median_grouped(feelScores)}\")"
   ]
  },
  {
   "cell_type": "code",
   "execution_count": 13,
   "metadata": {},
   "outputs": [
    {
     "name": "stdout",
     "output_type": "stream",
     "text": [
      "Current Hometown temperatures: [26, 50, 18, 75, 45, 45, 14, 19, 75, 60, 33, 61, 59, 62, 46, 32, 59, 43, 6]\n",
      "\n",
      "The mean temperature was 43.578947368421055\n",
      "The 50th percentile of data median_grouped is 45.25\n",
      "The warmest temperature was 75\n",
      "The coldest temperature was 6\n"
     ]
    }
   ],
   "source": [
    "alltemps = [int(row[3]) for row in noirdata]\n",
    "\n",
    "print(f\"Current Hometown temperatures: {alltemps}\")\n",
    "print()\n",
    "print(f\"The mean temperature was {mean(alltemps)}\")\n",
    "print(f\"The 50th percentile of data median_grouped is {median_grouped(alltemps)}\")\n",
    "\n",
    "print(f\"The warmest temperature was {max(alltemps)}\")\n",
    "print(f\"The coldest temperature was {min(alltemps)}\")"
   ]
  },
  {
   "cell_type": "code",
   "execution_count": 17,
   "metadata": {},
   "outputs": [
    {
     "name": "stdout",
     "output_type": "stream",
     "text": [
      "All hometown distances: [2766, 14, 1012, 8346, 2601, 2634, 5965, 776, 2660, 373, 2124, 25, 35, 45, 2664, 1003, 374, 1412, 6056]\n",
      "\n",
      "The closest hometown is 14 miles\n",
      "The farthest hometown is 8346 miles\n",
      "The mean distance is 2151.842105263158 miles\n",
      "The median distance is 1412\n",
      "The 50th percentile of data (median_grouped) is 1412.0 miles\n"
     ]
    }
   ],
   "source": [
    "alldists = [int(row[4]) for row in noirdata]\n",
    "\n",
    "print(f\"All hometown distances: {alldists}\")\n",
    "print()\n",
    "print(f\"The closest hometown is {min(alldists)} miles\")\n",
    "print(f\"The farthest hometown is {max(alldists)} miles\")\n",
    "print(f\"The mean distance is {mean(alldists)} miles\")\n",
    "print(f\"The median distance is {median(alldists)}\")\n",
    "print(f\"The 50th percentile of data (median_grouped) is {median_grouped(alldists)} miles\")\n"
   ]
  },
  {
   "cell_type": "code",
   "execution_count": 1,
   "metadata": {},
   "outputs": [
    {
     "ename": "NameError",
     "evalue": "name 'Counter' is not defined",
     "output_type": "error",
     "traceback": [
      "\u001b[1;31m---------------------------------------------------------------------------\u001b[0m",
      "\u001b[1;31mNameError\u001b[0m                                 Traceback (most recent call last)",
      "Input \u001b[1;32mIn [1]\u001b[0m, in \u001b[0;36m<module>\u001b[1;34m\u001b[0m\n\u001b[1;32m----> 1\u001b[0m chocolate \u001b[38;5;241m=\u001b[39m \u001b[43mCounter\u001b[49m(allfeelings)\n\u001b[0;32m      3\u001b[0m keys \u001b[38;5;241m=\u001b[39m \u001b[38;5;28mlist\u001b[39m(chocolate\u001b[38;5;241m.\u001b[39mkeys())\n\u001b[0;32m      4\u001b[0m vals \u001b[38;5;241m=\u001b[39m \u001b[38;5;28mlist\u001b[39m(chocolate\u001b[38;5;241m.\u001b[39mvalues())\n",
      "\u001b[1;31mNameError\u001b[0m: name 'Counter' is not defined"
     ]
    }
   ],
   "source": [
    "chocolate = Counter(allfeelings)\n",
    "\n",
    "keys = list(chocolate.keys())\n",
    "vals = list(chocolate.values())\n",
    "\n",
    "theSpread = OrderedDict([\n",
    "    (\"Hate\", 0),\n",
    "    (\"Tolerate\", 0),\n",
    "    (\"Neutral\", 0),\n",
    "    (\"Like\", 0),\n",
    "    (\"Love\", 0),\n",
    "])\n",
    "\n",
    "for k in chocolate.keys():\n",
    "    theSpread[k] = chocolate[k]\n",
    "\n",
    "print(f\"theSpread{theSpread}\")\n",
    "print()\n",
    "\n",
    "keys = list(theSpread.keys())\n",
    "vals = list(theSpread.values())\n",
    "\n",
    "sns.barplot(x=keys, y=vals).set(title=\"Do you like chocolate?\")\n",
    "plt.title = \"hi\"\n",
    "plt.show()\n"
   ]
  }
 ],
 "metadata": {
  "interpreter": {
   "hash": "daa5f6cb461add9f3887437760e45eb12cea63e27f6102afba72b4ded88f3bd8"
  },
  "kernelspec": {
   "display_name": "Python 3.9.7 64-bit ('dsfs': conda)",
   "name": "python3"
  },
  "language_info": {
   "codemirror_mode": {
    "name": "ipython",
    "version": 3
   },
   "file_extension": ".py",
   "mimetype": "text/x-python",
   "name": "python",
   "nbconvert_exporter": "python",
   "pygments_lexer": "ipython3",
   "version": "3.9.7"
  },
  "orig_nbformat": 4
 },
 "nbformat": 4,
 "nbformat_minor": 2
}
